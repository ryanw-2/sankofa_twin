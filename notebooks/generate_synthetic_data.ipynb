{
 "cells": [
  {
   "cell_type": "code",
   "execution_count": 3,
   "id": "06c3fa25",
   "metadata": {},
   "outputs": [],
   "source": [
    "import pandas as pd\n",
    "import numpy as np\n",
    "from datetime import datetime, timedelta"
   ]
  },
  {
   "cell_type": "code",
   "execution_count": 5,
   "id": "b865cd08",
   "metadata": {},
   "outputs": [],
   "source": [
    "def simulate_next_conditions(\n",
    "    internal_temp, external_temp, internal_humidity, external_humidity, heating, venting\n",
    "):\n",
    "    temp = internal_temp\n",
    "    humidity = internal_humidity\n",
    "\n",
    "    temp_rate = 0.15 if not (heating or venting) else 0.05\n",
    "    humidity_rate = 0.10 if not (heating or venting) else 0.03\n",
    "\n",
    "    temp += temp_rate * (external_temp - internal_temp)\n",
    "    humidity += humidity_rate * (external_humidity - internal_humidity)\n",
    "\n",
    "    if heating:\n",
    "        temp += 2.0\n",
    "        humidity_reduction = min(4.0, humidity * 0.3)\n",
    "        humidity = max(0, humidity - humidity_reduction)\n",
    "\n",
    "    if venting:\n",
    "        temp += 0.4 * (external_temp - temp)\n",
    "        humidity += 0.35 * (external_humidity - humidity)\n",
    "\n",
    "    if not venting and humidity < 90:\n",
    "        if humidity < 85:\n",
    "            passive_gain = 0.08 * (85 - humidity)\n",
    "        else:\n",
    "            passive_gain = 0.02\n",
    "        humidity += passive_gain\n",
    "\n",
    "    humidity = max(0, min(100, humidity))\n",
    "\n",
    "    return temp, humidity"
   ]
  },
  {
   "cell_type": "code",
   "execution_count": 6,
   "id": "c24132f4",
   "metadata": {},
   "outputs": [],
   "source": [
    "n_samples = 1000\n",
    "start_time = datetime.now()\n",
    "datetimes = [start_time + timedelta(hours=1) for i in range(n_samples)]\n",
    "\n",
    "external_temps = np.random.normal(loc=80, scale=40, size=n_samples)\n",
    "external_humidies = np.random.uniform(50, 90, size=n_samples)"
   ]
  },
  {
   "cell_type": "code",
   "execution_count": 7,
   "id": "26f18818",
   "metadata": {},
   "outputs": [],
   "source": [
    "internal_temp = np.random.uniform(60, 80)\n",
    "internal_humidity = np.random.uniform(60, 80)\n",
    "data = []\n",
    "\n",
    "for i in range(n_samples):\n",
    "    ext_temp = external_temps[i]\n",
    "    ext_hum = external_humidies[i]\n",
    "\n",
    "    heating = int(internal_temp < 65)\n",
    "    venting = int(internal_temp > 72)\n",
    "\n",
    "    next_temp, next_hum = simulate_next_conditions(\n",
    "        internal_temp, ext_temp, internal_humidity, ext_hum, heating, venting\n",
    "    )\n",
    "\n",
    "    data.append({\n",
    "        \"datetime\": datetimes[i],\n",
    "        \"next_internal_temp\": next_temp,\n",
    "        \"next_internal_hum\": next_hum,\n",
    "        \"external_temp\": ext_temp,\n",
    "        \"internal_temp\": internal_temp,\n",
    "        \"external_humidity\": ext_hum,\n",
    "        \"internal_humidity\": internal_humidity,\n",
    "        \"heating\": heating,\n",
    "        \"venting\": venting,\n",
    "    })\n",
    "\n",
    "    internal_temp = next_temp\n",
    "    internal_humidity = next_hum"
   ]
  },
  {
   "cell_type": "code",
   "execution_count": 5,
   "id": "373ef0f3",
   "metadata": {},
   "outputs": [
    {
     "name": "stdout",
     "output_type": "stream",
     "text": [
      "Generate synthetic data successfully.\n",
      "                    datetime  next_internal_temp  next_internal_hum  \\\n",
      "0 2025-07-14 01:02:22.513978           68.710835          69.538413   \n",
      "1 2025-07-14 01:02:22.513978           66.513979          71.061493   \n",
      "2 2025-07-14 01:02:22.513978           66.380080          72.508418   \n",
      "3 2025-07-14 01:02:22.513978           67.933820          73.882997   \n",
      "4 2025-07-14 01:02:22.513978           66.332029          75.188847   \n",
      "\n",
      "   external_temp  internal_temp  external_humidity  internal_humidity  \\\n",
      "0      86.930467      67.751907          86.445592          67.935172   \n",
      "1      24.773715      68.710835          76.323427          69.538413   \n",
      "2      63.836000      66.513979          83.702181          71.061493   \n",
      "3      97.454877      66.380080          63.699739          72.508418   \n",
      "4      35.898007      67.933820          55.115025          73.882997   \n",
      "\n",
      "   heating  venting  \n",
      "0        0        0  \n",
      "1        0        0  \n",
      "2        0        0  \n",
      "3        0        0  \n",
      "4        0        0  \n"
     ]
    }
   ],
   "source": [
    "df = pd.DataFrame(data)\n",
    "df.to_csv(\"./data/synthetic_greenhouse_data.csv\", index=False)\n",
    "\n",
    "print(\"Generate synthetic data successfully.\")\n",
    "print(df.head())"
   ]
  }
 ],
 "metadata": {
  "kernelspec": {
   "display_name": ".venv",
   "language": "python",
   "name": "python3"
  },
  "language_info": {
   "codemirror_mode": {
    "name": "ipython",
    "version": 3
   },
   "file_extension": ".py",
   "mimetype": "text/x-python",
   "name": "python",
   "nbconvert_exporter": "python",
   "pygments_lexer": "ipython3",
   "version": "3.12.4"
  }
 },
 "nbformat": 4,
 "nbformat_minor": 5
}
