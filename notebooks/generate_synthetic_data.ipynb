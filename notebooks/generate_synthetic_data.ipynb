{
 "cells": [
  {
   "cell_type": "code",
   "execution_count": 44,
   "id": "06c3fa25",
   "metadata": {},
   "outputs": [],
   "source": [
    "import pandas as pd\n",
    "import numpy as np\n",
    "from datetime import datetime, timedelta"
   ]
  },
  {
   "cell_type": "code",
   "execution_count": 45,
   "id": "b865cd08",
   "metadata": {},
   "outputs": [],
   "source": [
    "def simulate_next_conditions(\n",
    "    internal_temp, external_temp, internal_humidity, external_humidity, heating, venting\n",
    "):\n",
    "    temp = internal_temp\n",
    "    humidity = internal_humidity\n",
    "\n",
    "    heating_effect = 0.0\n",
    "    if heating:\n",
    "        temp += 1.5\n",
    "        heating_effect = -0.5\n",
    "    venting_effect = 0.0\n",
    "    if venting:\n",
    "        temp += 0.75 * (external_temp - temp)\n",
    "        venting_effect = 0.3 * (external_humidity - internal_humidity)\n",
    "\n",
    "    passive_gain = (\n",
    "        0.05 * (100 - internal_humidity) if not venting and not heating else 0.0\n",
    "    )\n",
    "\n",
    "    humidity = internal_humidity + (heating_effect + venting_effect + passive_gain)\n",
    "    humidity = max(0, min(100, humidity))\n",
    "    temp += 0.05 * (external_temp - temp)\n",
    "\n",
    "    return temp, humidity"
   ]
  },
  {
   "cell_type": "code",
   "execution_count": 46,
   "id": "c24132f4",
   "metadata": {},
   "outputs": [],
   "source": [
    "n_samples = 1000\n",
    "start_time = datetime.now()\n",
    "datetimes = [start_time + timedelta(hours=1) for i in range(n_samples)]\n",
    "\n",
    "external_temps = np.random.normal(loc=80, scale=40, size=n_samples)\n",
    "external_humidies = np.random.uniform(50, 90, size=n_samples)"
   ]
  },
  {
   "cell_type": "code",
   "execution_count": 47,
   "id": "26f18818",
   "metadata": {},
   "outputs": [],
   "source": [
    "internal_temp = np.random.uniform(60, 80)\n",
    "internal_humidity = np.random.uniform(60, 80)\n",
    "data = []\n",
    "\n",
    "for i in range(n_samples):\n",
    "    ext_temp = external_temps[i]\n",
    "    ext_hum = external_humidies[i]\n",
    "\n",
    "    heating = int(internal_temp < 65)\n",
    "    venting = int(internal_temp > 72)\n",
    "\n",
    "    next_temp, next_hum = simulate_next_conditions(\n",
    "        internal_temp, ext_temp, internal_humidity, ext_hum, heating, venting\n",
    "    )\n",
    "\n",
    "    data.append({\n",
    "        \"datetime\": datetimes[i],\n",
    "        \"next_internal_temp\": next_temp,\n",
    "        \"next_internal_hum\": next_hum,\n",
    "        \"external_temp\": ext_temp,\n",
    "        \"internal_temp\": internal_temp,\n",
    "        \"external_humidity\": ext_hum,\n",
    "        \"internal_humidity\": internal_humidity,\n",
    "        \"heating\": heating,\n",
    "        \"venting\": venting,\n",
    "    })\n",
    "\n",
    "    internal_temp = next_temp\n",
    "    internal_humidity = next_hum"
   ]
  },
  {
   "cell_type": "code",
   "execution_count": 48,
   "id": "373ef0f3",
   "metadata": {},
   "outputs": [
    {
     "name": "stdout",
     "output_type": "stream",
     "text": [
      "Generate synthetic data successfully.\n",
      "                    datetime  next_internal_temp  next_internal_hum  \\\n",
      "0 2025-07-12 01:10:24.721558           82.654585          74.623144   \n",
      "1 2025-07-12 01:10:24.721558           42.161584          72.400116   \n",
      "2 2025-07-12 01:10:24.721558           46.861082          71.900116   \n",
      "3 2025-07-12 01:10:24.721558           48.971227          71.400116   \n",
      "4 2025-07-12 01:10:24.721558           53.748413          70.900116   \n",
      "\n",
      "   external_temp  internal_temp  external_humidity  internal_humidity  \\\n",
      "0      84.313560      77.328401          87.973196          68.901693   \n",
      "1      29.549010      82.654585          67.213052          74.623144   \n",
      "2     107.651543      42.161584          74.910098          72.400116   \n",
      "3      60.563969      46.861082          51.643272          71.900116   \n",
      "4     116.014946      48.971227          81.492902          71.400116   \n",
      "\n",
      "   heating  venting  \n",
      "0        0        1  \n",
      "1        0        1  \n",
      "2        1        0  \n",
      "3        1        0  \n",
      "4        1        0  \n"
     ]
    }
   ],
   "source": [
    "df = pd.DataFrame(data)\n",
    "df.to_csv(\"./data/synthetic_greenhouse_data.csv\", index=False)\n",
    "\n",
    "print(\"Generate synthetic data successfully.\")\n",
    "print(df.head())"
   ]
  }
 ],
 "metadata": {
  "kernelspec": {
   "display_name": ".venv",
   "language": "python",
   "name": "python3"
  },
  "language_info": {
   "codemirror_mode": {
    "name": "ipython",
    "version": 3
   },
   "file_extension": ".py",
   "mimetype": "text/x-python",
   "name": "python",
   "nbconvert_exporter": "python",
   "pygments_lexer": "ipython3",
   "version": "3.12.4"
  }
 },
 "nbformat": 4,
 "nbformat_minor": 5
}
